{
 "cells": [
  {
   "cell_type": "code",
   "execution_count": 1,
   "id": "5d74bfb4-049d-4d6a-a263-fa43dc4d093f",
   "metadata": {},
   "outputs": [],
   "source": [
    "import pandas as pd  # For data handling and manipulation"
   ]
  },
  {
   "cell_type": "code",
   "execution_count": 3,
   "id": "5975e665-9c04-410d-8203-2659fcb03fa9",
   "metadata": {},
   "outputs": [
    {
     "data": {
      "text/html": [
       "<div>\n",
       "<style scoped>\n",
       "    .dataframe tbody tr th:only-of-type {\n",
       "        vertical-align: middle;\n",
       "    }\n",
       "\n",
       "    .dataframe tbody tr th {\n",
       "        vertical-align: top;\n",
       "    }\n",
       "\n",
       "    .dataframe thead th {\n",
       "        text-align: right;\n",
       "    }\n",
       "</style>\n",
       "<table border=\"1\" class=\"dataframe\">\n",
       "  <thead>\n",
       "    <tr style=\"text-align: right;\">\n",
       "      <th></th>\n",
       "      <th>jobid</th>\n",
       "      <th>job_title</th>\n",
       "      <th>job_level</th>\n",
       "      <th>job_url</th>\n",
       "      <th>industry</th>\n",
       "      <th>job_description</th>\n",
       "      <th>job_salary</th>\n",
       "    </tr>\n",
       "  </thead>\n",
       "  <tbody>\n",
       "    <tr>\n",
       "      <th>201</th>\n",
       "      <td>Data Engineer</td>\n",
       "      <td>Mid</td>\n",
       "      <td>https://www.linkedin.com/jobs/view/3928327681/</td>\n",
       "      <td>Technology</td>\n",
       "      <td>Build data pipelines and manage data platforms</td>\n",
       "      <td>$105</td>\n",
       "      <td>0</td>\n",
       "    </tr>\n",
       "    <tr>\n",
       "      <th>202</th>\n",
       "      <td>Senior Data Engineer</td>\n",
       "      <td>Senior</td>\n",
       "      <td>https://www.linkedin.com/jobs/view/3927117499/</td>\n",
       "      <td>Finance</td>\n",
       "      <td>Lead ETL processes and mentor junior engineers</td>\n",
       "      <td>$125</td>\n",
       "      <td>0</td>\n",
       "    </tr>\n",
       "    <tr>\n",
       "      <th>203</th>\n",
       "      <td>Data Platform Engineer</td>\n",
       "      <td>Mid</td>\n",
       "      <td>https://www.linkedin.com/jobs/view/3930213714/</td>\n",
       "      <td>Technology</td>\n",
       "      <td>Develop scalable data infrastructure and services</td>\n",
       "      <td>$110</td>\n",
       "      <td>0</td>\n",
       "    </tr>\n",
       "    <tr>\n",
       "      <th>204</th>\n",
       "      <td>Cloud Data Engineer</td>\n",
       "      <td>Mid</td>\n",
       "      <td>https://www.linkedin.com/jobs/view/3929893687/</td>\n",
       "      <td>Cloud Computing</td>\n",
       "      <td>Manage cloud data workflows and storage systems</td>\n",
       "      <td>$108</td>\n",
       "      <td>0</td>\n",
       "    </tr>\n",
       "    <tr>\n",
       "      <th>201</th>\n",
       "      <td>Data Engineer</td>\n",
       "      <td>Mid</td>\n",
       "      <td>https://www.linkedin.com/jobs/view/3928327681/</td>\n",
       "      <td>Technology</td>\n",
       "      <td>Build data pipelines and manage data platforms</td>\n",
       "      <td>$105</td>\n",
       "      <td>0</td>\n",
       "    </tr>\n",
       "  </tbody>\n",
       "</table>\n",
       "</div>"
      ],
      "text/plain": [
       "                      jobid job_title  \\\n",
       "201           Data Engineer       Mid   \n",
       "202    Senior Data Engineer    Senior   \n",
       "203  Data Platform Engineer       Mid   \n",
       "204     Cloud Data Engineer       Mid   \n",
       "201           Data Engineer       Mid   \n",
       "\n",
       "                                          job_level          job_url  \\\n",
       "201  https://www.linkedin.com/jobs/view/3928327681/       Technology   \n",
       "202  https://www.linkedin.com/jobs/view/3927117499/          Finance   \n",
       "203  https://www.linkedin.com/jobs/view/3930213714/       Technology   \n",
       "204  https://www.linkedin.com/jobs/view/3929893687/  Cloud Computing   \n",
       "201  https://www.linkedin.com/jobs/view/3928327681/       Technology   \n",
       "\n",
       "                                              industry job_description  \\\n",
       "201     Build data pipelines and manage data platforms            $105   \n",
       "202     Lead ETL processes and mentor junior engineers            $125   \n",
       "203  Develop scalable data infrastructure and services            $110   \n",
       "204    Manage cloud data workflows and storage systems            $108   \n",
       "201     Build data pipelines and manage data platforms            $105   \n",
       "\n",
       "     job_salary  \n",
       "201           0  \n",
       "202           0  \n",
       "203           0  \n",
       "204           0  \n",
       "201           0  "
      ]
     },
     "execution_count": 3,
     "metadata": {},
     "output_type": "execute_result"
    }
   ],
   "source": [
    "# Set the path to your input file\n",
    "input_file = 'linkedin_jobs.csv'  # or 'linkedin_jobs.json'\n",
    "\n",
    "# Load the data\n",
    "if input_file.endswith('.csv'):\n",
    "    df = pd.read_csv(input_file)\n",
    "elif input_file.endswith('.json'):\n",
    "    df = pd.read_json(input_file, lines=True)\n",
    "else:\n",
    "    raise ValueError(\"Unsupported file format. Use CSV or JSON.\")\n",
    "\n",
    "# Show the first few rows to verify\n",
    "df.head()\n"
   ]
  },
  {
   "cell_type": "code",
   "execution_count": 5,
   "id": "3a5d9e9e-3ffa-4c1c-b15e-014f5236df96",
   "metadata": {},
   "outputs": [
    {
     "name": "stdout",
     "output_type": "stream",
     "text": [
      "Removed 2 duplicates. Remaining rows: 8\n"
     ]
    }
   ],
   "source": [
    "# Set the column name to identify duplicates (change if your column name is different)\n",
    "job_id_column = 'jobid'\n",
    "\n",
    "# Check if the column exists\n",
    "if job_id_column not in df.columns:\n",
    "    raise ValueError(f\"Column '{job_id_column}' not found in data.\")\n",
    "\n",
    "# Get number of rows before deduplication\n",
    "before = len(df)\n",
    "\n",
    "# Drop duplicates\n",
    "df_clean = df.drop_duplicates(subset=job_id_column)\n",
    "\n",
    "# Get number of rows after deduplication\n",
    "after = len(df_clean)\n",
    "\n",
    "print(f\"Removed {before - after} duplicates. Remaining rows: {after}\")\n"
   ]
  },
  {
   "cell_type": "code",
   "execution_count": 7,
   "id": "9c6d8823-f33b-474a-9706-c4c8871585cf",
   "metadata": {},
   "outputs": [
    {
     "name": "stdout",
     "output_type": "stream",
     "text": [
      "Cleaned data saved to: linkedin_jobs_deduplicated.csv\n"
     ]
    }
   ],
   "source": [
    "# Define output file name\n",
    "output_file = 'linkedin_jobs_deduplicated.csv'\n",
    "\n",
    "# Save to CSV\n",
    "df_clean.to_csv(output_file, index=False)\n",
    "\n",
    "print(f\"Cleaned data saved to: {output_file}\")\n"
   ]
  },
  {
   "cell_type": "code",
   "execution_count": 9,
   "id": "e2b41781-47b7-4490-9b5f-3b9a93a51226",
   "metadata": {},
   "outputs": [
    {
     "data": {
      "text/html": [
       "<div>\n",
       "<style scoped>\n",
       "    .dataframe tbody tr th:only-of-type {\n",
       "        vertical-align: middle;\n",
       "    }\n",
       "\n",
       "    .dataframe tbody tr th {\n",
       "        vertical-align: top;\n",
       "    }\n",
       "\n",
       "    .dataframe thead th {\n",
       "        text-align: right;\n",
       "    }\n",
       "</style>\n",
       "<table border=\"1\" class=\"dataframe\">\n",
       "  <thead>\n",
       "    <tr style=\"text-align: right;\">\n",
       "      <th></th>\n",
       "      <th>jobid</th>\n",
       "      <th>job_title</th>\n",
       "      <th>job_level</th>\n",
       "      <th>job_url</th>\n",
       "      <th>industry</th>\n",
       "      <th>job_description</th>\n",
       "      <th>job_salary</th>\n",
       "    </tr>\n",
       "  </thead>\n",
       "  <tbody>\n",
       "    <tr>\n",
       "      <th>201</th>\n",
       "      <td>Data Engineer</td>\n",
       "      <td>Mid</td>\n",
       "      <td>https://www.linkedin.com/jobs/view/3928327681/</td>\n",
       "      <td>Technology</td>\n",
       "      <td>Build data pipelines and manage data platforms</td>\n",
       "      <td>$105</td>\n",
       "      <td>0</td>\n",
       "    </tr>\n",
       "    <tr>\n",
       "      <th>202</th>\n",
       "      <td>Senior Data Engineer</td>\n",
       "      <td>Senior</td>\n",
       "      <td>https://www.linkedin.com/jobs/view/3927117499/</td>\n",
       "      <td>Finance</td>\n",
       "      <td>Lead ETL processes and mentor junior engineers</td>\n",
       "      <td>$125</td>\n",
       "      <td>0</td>\n",
       "    </tr>\n",
       "    <tr>\n",
       "      <th>203</th>\n",
       "      <td>Data Platform Engineer</td>\n",
       "      <td>Mid</td>\n",
       "      <td>https://www.linkedin.com/jobs/view/3930213714/</td>\n",
       "      <td>Technology</td>\n",
       "      <td>Develop scalable data infrastructure and services</td>\n",
       "      <td>$110</td>\n",
       "      <td>0</td>\n",
       "    </tr>\n",
       "    <tr>\n",
       "      <th>204</th>\n",
       "      <td>Cloud Data Engineer</td>\n",
       "      <td>Mid</td>\n",
       "      <td>https://www.linkedin.com/jobs/view/3929893687/</td>\n",
       "      <td>Cloud Computing</td>\n",
       "      <td>Manage cloud data workflows and storage systems</td>\n",
       "      <td>$108</td>\n",
       "      <td>0</td>\n",
       "    </tr>\n",
       "    <tr>\n",
       "      <th>205</th>\n",
       "      <td>ETL Developer</td>\n",
       "      <td>Entry</td>\n",
       "      <td>https://www.linkedin.com/jobs/view/3930306452/</td>\n",
       "      <td>Retail</td>\n",
       "      <td>Design and develop ETL mappings and data valid...</td>\n",
       "      <td>$90</td>\n",
       "      <td>0</td>\n",
       "    </tr>\n",
       "  </tbody>\n",
       "</table>\n",
       "</div>"
      ],
      "text/plain": [
       "                      jobid job_title  \\\n",
       "201           Data Engineer       Mid   \n",
       "202    Senior Data Engineer    Senior   \n",
       "203  Data Platform Engineer       Mid   \n",
       "204     Cloud Data Engineer       Mid   \n",
       "205           ETL Developer     Entry   \n",
       "\n",
       "                                          job_level          job_url  \\\n",
       "201  https://www.linkedin.com/jobs/view/3928327681/       Technology   \n",
       "202  https://www.linkedin.com/jobs/view/3927117499/          Finance   \n",
       "203  https://www.linkedin.com/jobs/view/3930213714/       Technology   \n",
       "204  https://www.linkedin.com/jobs/view/3929893687/  Cloud Computing   \n",
       "205  https://www.linkedin.com/jobs/view/3930306452/           Retail   \n",
       "\n",
       "                                              industry job_description  \\\n",
       "201     Build data pipelines and manage data platforms            $105   \n",
       "202     Lead ETL processes and mentor junior engineers            $125   \n",
       "203  Develop scalable data infrastructure and services            $110   \n",
       "204    Manage cloud data workflows and storage systems            $108   \n",
       "205  Design and develop ETL mappings and data valid...             $90   \n",
       "\n",
       "     job_salary  \n",
       "201           0  \n",
       "202           0  \n",
       "203           0  \n",
       "204           0  \n",
       "205           0  "
      ]
     },
     "execution_count": 9,
     "metadata": {},
     "output_type": "execute_result"
    }
   ],
   "source": [
    "df_clean.head() #preview cleaned data\n"
   ]
  },
  {
   "cell_type": "code",
   "execution_count": 11,
   "id": "edaa75a6-20bb-4362-8875-57c056ec4bfa",
   "metadata": {},
   "outputs": [],
   "source": [
    "import pandas as pd\n",
    "import requests\n",
    "from tqdm import tqdm  # For progress bar"
   ]
  },
  {
   "cell_type": "code",
   "execution_count": 13,
   "id": "0a299a19",
   "metadata": {
    "vscode": {
     "languageId": "art"
    }
   },
   "outputs": [
    {
     "data": {
      "text/html": [
       "<div>\n",
       "<style scoped>\n",
       "    .dataframe tbody tr th:only-of-type {\n",
       "        vertical-align: middle;\n",
       "    }\n",
       "\n",
       "    .dataframe tbody tr th {\n",
       "        vertical-align: top;\n",
       "    }\n",
       "\n",
       "    .dataframe thead th {\n",
       "        text-align: right;\n",
       "    }\n",
       "</style>\n",
       "<table border=\"1\" class=\"dataframe\">\n",
       "  <thead>\n",
       "    <tr style=\"text-align: right;\">\n",
       "      <th></th>\n",
       "      <th>jobid</th>\n",
       "      <th>job_title</th>\n",
       "      <th>job_level</th>\n",
       "      <th>job_url</th>\n",
       "      <th>industry</th>\n",
       "      <th>job_description</th>\n",
       "      <th>job_salary</th>\n",
       "    </tr>\n",
       "  </thead>\n",
       "  <tbody>\n",
       "    <tr>\n",
       "      <th>0</th>\n",
       "      <td>Data Engineer</td>\n",
       "      <td>Mid</td>\n",
       "      <td>https://www.linkedin.com/jobs/view/3928327681/</td>\n",
       "      <td>Technology</td>\n",
       "      <td>Build data pipelines and manage data platforms</td>\n",
       "      <td>$105</td>\n",
       "      <td>0</td>\n",
       "    </tr>\n",
       "    <tr>\n",
       "      <th>1</th>\n",
       "      <td>Senior Data Engineer</td>\n",
       "      <td>Senior</td>\n",
       "      <td>https://www.linkedin.com/jobs/view/3927117499/</td>\n",
       "      <td>Finance</td>\n",
       "      <td>Lead ETL processes and mentor junior engineers</td>\n",
       "      <td>$125</td>\n",
       "      <td>0</td>\n",
       "    </tr>\n",
       "    <tr>\n",
       "      <th>2</th>\n",
       "      <td>Data Platform Engineer</td>\n",
       "      <td>Mid</td>\n",
       "      <td>https://www.linkedin.com/jobs/view/3930213714/</td>\n",
       "      <td>Technology</td>\n",
       "      <td>Develop scalable data infrastructure and services</td>\n",
       "      <td>$110</td>\n",
       "      <td>0</td>\n",
       "    </tr>\n",
       "    <tr>\n",
       "      <th>3</th>\n",
       "      <td>Cloud Data Engineer</td>\n",
       "      <td>Mid</td>\n",
       "      <td>https://www.linkedin.com/jobs/view/3929893687/</td>\n",
       "      <td>Cloud Computing</td>\n",
       "      <td>Manage cloud data workflows and storage systems</td>\n",
       "      <td>$108</td>\n",
       "      <td>0</td>\n",
       "    </tr>\n",
       "    <tr>\n",
       "      <th>4</th>\n",
       "      <td>ETL Developer</td>\n",
       "      <td>Entry</td>\n",
       "      <td>https://www.linkedin.com/jobs/view/3930306452/</td>\n",
       "      <td>Retail</td>\n",
       "      <td>Design and develop ETL mappings and data valid...</td>\n",
       "      <td>$90</td>\n",
       "      <td>0</td>\n",
       "    </tr>\n",
       "  </tbody>\n",
       "</table>\n",
       "</div>"
      ],
      "text/plain": [
       "                    jobid job_title  \\\n",
       "0           Data Engineer       Mid   \n",
       "1    Senior Data Engineer    Senior   \n",
       "2  Data Platform Engineer       Mid   \n",
       "3     Cloud Data Engineer       Mid   \n",
       "4           ETL Developer     Entry   \n",
       "\n",
       "                                        job_level          job_url  \\\n",
       "0  https://www.linkedin.com/jobs/view/3928327681/       Technology   \n",
       "1  https://www.linkedin.com/jobs/view/3927117499/          Finance   \n",
       "2  https://www.linkedin.com/jobs/view/3930213714/       Technology   \n",
       "3  https://www.linkedin.com/jobs/view/3929893687/  Cloud Computing   \n",
       "4  https://www.linkedin.com/jobs/view/3930306452/           Retail   \n",
       "\n",
       "                                            industry job_description  \\\n",
       "0     Build data pipelines and manage data platforms            $105   \n",
       "1     Lead ETL processes and mentor junior engineers            $125   \n",
       "2  Develop scalable data infrastructure and services            $110   \n",
       "3    Manage cloud data workflows and storage systems            $108   \n",
       "4  Design and develop ETL mappings and data valid...             $90   \n",
       "\n",
       "   job_salary  \n",
       "0           0  \n",
       "1           0  \n",
       "2           0  \n",
       "3           0  \n",
       "4           0  "
      ]
     },
     "execution_count": 13,
     "metadata": {},
     "output_type": "execute_result"
    }
   ],
   "source": [
    "# Update with your actual file path\n",
    "input_file = 'linkedin_jobs_deduplicated.csv'\n",
    "df = pd.read_csv(input_file)\n",
    "\n",
    "# Show the first few rows\n",
    "df.head()"
   ]
  },
  {
   "cell_type": "code",
   "execution_count": 15,
   "id": "48523c9c",
   "metadata": {
    "vscode": {
     "languageId": "art"
    }
   },
   "outputs": [],
   "source": [
    "def is_job_url_valid(url):\n",
    "    try:\n",
    "        headers = {\n",
    "            'User-Agent': 'Mozilla/5.0'\n",
    "        }\n",
    "\n",
    "        response = requests.get(url, headers=headers, timeout=10, allow_redirects=True)\n",
    "        status = response.status_code\n",
    "\n",
    "        # 1. Check HTTP status codes that imply job is gone\n",
    "        if status in [404, 410]:\n",
    "            return False\n",
    "\n",
    "        # 2. Check for soft-deleted jobs or redirect to search\n",
    "        invalid_phrases = [\n",
    "            \"This job is no longer accepting applications\",\n",
    "            \"Job has expired\",\n",
    "            \"Page not found\",\n",
    "            \"Search for more jobs\",\n",
    "            \"We can’t find this job\",\n",
    "            \"This job has closed\",\n",
    "            \"The job you were looking for was not found\"\n",
    "        ]\n",
    "        if any(phrase in response.text for phrase in invalid_phrases):\n",
    "            return False\n",
    "\n",
    "        if response.url != url:\n",
    "            # LinkedIn redirected to another page\n",
    "            if \"/jobs/search/\" in response.url or \"/jobs/\" not in response.url:\n",
    "                return False\n",
    "\n",
    "        # 3. If status is 200 and content looks OK\n",
    "        return True\n",
    "\n",
    "    except requests.RequestException:\n",
    "        return False"
   ]
  },
  {
   "cell_type": "code",
   "execution_count": 17,
   "id": "16b530c5",
   "metadata": {
    "vscode": {
     "languageId": "art"
    }
   },
   "outputs": [
    {
     "name": "stderr",
     "output_type": "stream",
     "text": [
      "Checking job URLs: 100%|████████████████████████| 8/8 [00:00<00:00, 2054.39it/s]"
     ]
    },
    {
     "name": "stdout",
     "output_type": "stream",
     "text": [
      "Removed 8 expired or broken job URLs.\n"
     ]
    },
    {
     "name": "stderr",
     "output_type": "stream",
     "text": [
      "\n"
     ]
    }
   ],
   "source": [
    "# Add a new column 'is_valid' by checking each job_url\n",
    "tqdm.pandas(desc=\"Checking job URLs\")\n",
    "df['is_valid'] = df['job_url'].progress_apply(is_job_url_valid)\n",
    "\n",
    "# Filter out invalid URLs\n",
    "df_clean = df[df['is_valid'] == True].drop(columns=['is_valid'])\n",
    "\n",
    "# Show how many were removed\n",
    "print(f\"Removed {len(df) - len(df_clean)} expired or broken job URLs.\")"
   ]
  },
  {
   "cell_type": "code",
   "execution_count": 19,
   "id": "f6b68d0e",
   "metadata": {
    "vscode": {
     "languageId": "art"
    }
   },
   "outputs": [
    {
     "name": "stdout",
     "output_type": "stream",
     "text": [
      "Cleaned data saved to: linkedin_jobs_NoExpired.csv\n"
     ]
    }
   ],
   "source": [
    "output_file = 'linkedin_jobs_NoExpired.csv'\n",
    "df_clean.to_csv(output_file, index=False)\n",
    "print(f\"Cleaned data saved to: {output_file}\")"
   ]
  },
  {
   "cell_type": "code",
   "execution_count": 21,
   "id": "3c5e1e9d",
   "metadata": {
    "vscode": {
     "languageId": "art"
    }
   },
   "outputs": [
    {
     "data": {
      "text/html": [
       "<div>\n",
       "<style scoped>\n",
       "    .dataframe tbody tr th:only-of-type {\n",
       "        vertical-align: middle;\n",
       "    }\n",
       "\n",
       "    .dataframe tbody tr th {\n",
       "        vertical-align: top;\n",
       "    }\n",
       "\n",
       "    .dataframe thead th {\n",
       "        text-align: right;\n",
       "    }\n",
       "</style>\n",
       "<table border=\"1\" class=\"dataframe\">\n",
       "  <thead>\n",
       "    <tr style=\"text-align: right;\">\n",
       "      <th></th>\n",
       "      <th>jobid</th>\n",
       "      <th>job_title</th>\n",
       "      <th>job_level</th>\n",
       "      <th>job_url</th>\n",
       "      <th>industry</th>\n",
       "      <th>job_description</th>\n",
       "      <th>job_salary</th>\n",
       "    </tr>\n",
       "  </thead>\n",
       "  <tbody>\n",
       "  </tbody>\n",
       "</table>\n",
       "</div>"
      ],
      "text/plain": [
       "Empty DataFrame\n",
       "Columns: [jobid, job_title, job_level, job_url, industry, job_description, job_salary]\n",
       "Index: []"
      ]
     },
     "execution_count": 21,
     "metadata": {},
     "output_type": "execute_result"
    }
   ],
   "source": [
    "df_clean.head() #preview cleaned data"
   ]
  },
  {
   "cell_type": "code",
   "execution_count": null,
   "id": "63e5860c-5fc8-422e-8ef6-a61ecb16a207",
   "metadata": {},
   "outputs": [],
   "source": []
  }
 ],
 "metadata": {
  "kernelspec": {
   "display_name": "Python 3 (ipykernel)",
   "language": "python",
   "name": "python3"
  },
  "language_info": {
   "codemirror_mode": {
    "name": "ipython",
    "version": 3
   },
   "file_extension": ".py",
   "mimetype": "text/x-python",
   "name": "python",
   "nbconvert_exporter": "python",
   "pygments_lexer": "ipython3",
   "version": "3.12.7"
  }
 },
 "nbformat": 4,
 "nbformat_minor": 5
}
