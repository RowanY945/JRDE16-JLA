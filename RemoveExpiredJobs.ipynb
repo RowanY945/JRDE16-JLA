{
 "cells": [
  {
   "cell_type": "code",
   "execution_count": 1,
   "id": "1d915a1a-8aba-412b-b38a-728d43a849b9",
   "metadata": {},
   "outputs": [],
   "source": [
    "import pandas as pd\n",
    "import requests\n",
    "from tqdm import tqdm  # For progress bar\n"
   ]
  },
  {
   "cell_type": "code",
   "execution_count": 3,
   "id": "9af8488d-83bc-4ddc-9f60-eba1fc65eec4",
   "metadata": {},
   "outputs": [
    {
     "data": {
      "text/html": [
       "<div>\n",
       "<style scoped>\n",
       "    .dataframe tbody tr th:only-of-type {\n",
       "        vertical-align: middle;\n",
       "    }\n",
       "\n",
       "    .dataframe tbody tr th {\n",
       "        vertical-align: top;\n",
       "    }\n",
       "\n",
       "    .dataframe thead th {\n",
       "        text-align: right;\n",
       "    }\n",
       "</style>\n",
       "<table border=\"1\" class=\"dataframe\">\n",
       "  <thead>\n",
       "    <tr style=\"text-align: right;\">\n",
       "      <th></th>\n",
       "      <th>jobid</th>\n",
       "      <th>job_title</th>\n",
       "      <th>job_level</th>\n",
       "      <th>job_url</th>\n",
       "      <th>industry</th>\n",
       "      <th>job_description</th>\n",
       "      <th>job_salary</th>\n",
       "    </tr>\n",
       "  </thead>\n",
       "  <tbody>\n",
       "    <tr>\n",
       "      <th>0</th>\n",
       "      <td>Data Engineer</td>\n",
       "      <td>Mid</td>\n",
       "      <td>https://www.linkedin.com/jobs/view/3928327681/</td>\n",
       "      <td>Technology</td>\n",
       "      <td>Build data pipelines and manage data platforms</td>\n",
       "      <td>$105</td>\n",
       "      <td>0</td>\n",
       "    </tr>\n",
       "    <tr>\n",
       "      <th>1</th>\n",
       "      <td>Senior Data Engineer</td>\n",
       "      <td>Senior</td>\n",
       "      <td>https://www.linkedin.com/jobs/view/3927117499/</td>\n",
       "      <td>Finance</td>\n",
       "      <td>Lead ETL processes and mentor junior engineers</td>\n",
       "      <td>$125</td>\n",
       "      <td>0</td>\n",
       "    </tr>\n",
       "    <tr>\n",
       "      <th>2</th>\n",
       "      <td>Data Platform Engineer</td>\n",
       "      <td>Mid</td>\n",
       "      <td>https://www.linkedin.com/jobs/view/3930213714/</td>\n",
       "      <td>Technology</td>\n",
       "      <td>Develop scalable data infrastructure and services</td>\n",
       "      <td>$110</td>\n",
       "      <td>0</td>\n",
       "    </tr>\n",
       "    <tr>\n",
       "      <th>3</th>\n",
       "      <td>Cloud Data Engineer</td>\n",
       "      <td>Mid</td>\n",
       "      <td>https://www.linkedin.com/jobs/view/3929893687/</td>\n",
       "      <td>Cloud Computing</td>\n",
       "      <td>Manage cloud data workflows and storage systems</td>\n",
       "      <td>$108</td>\n",
       "      <td>0</td>\n",
       "    </tr>\n",
       "    <tr>\n",
       "      <th>4</th>\n",
       "      <td>ETL Developer</td>\n",
       "      <td>Entry</td>\n",
       "      <td>https://www.linkedin.com/jobs/view/3930306452/</td>\n",
       "      <td>Retail</td>\n",
       "      <td>Design and develop ETL mappings and data valid...</td>\n",
       "      <td>$90</td>\n",
       "      <td>0</td>\n",
       "    </tr>\n",
       "  </tbody>\n",
       "</table>\n",
       "</div>"
      ],
      "text/plain": [
       "                    jobid job_title  \\\n",
       "0           Data Engineer       Mid   \n",
       "1    Senior Data Engineer    Senior   \n",
       "2  Data Platform Engineer       Mid   \n",
       "3     Cloud Data Engineer       Mid   \n",
       "4           ETL Developer     Entry   \n",
       "\n",
       "                                        job_level          job_url  \\\n",
       "0  https://www.linkedin.com/jobs/view/3928327681/       Technology   \n",
       "1  https://www.linkedin.com/jobs/view/3927117499/          Finance   \n",
       "2  https://www.linkedin.com/jobs/view/3930213714/       Technology   \n",
       "3  https://www.linkedin.com/jobs/view/3929893687/  Cloud Computing   \n",
       "4  https://www.linkedin.com/jobs/view/3930306452/           Retail   \n",
       "\n",
       "                                            industry job_description  \\\n",
       "0     Build data pipelines and manage data platforms            $105   \n",
       "1     Lead ETL processes and mentor junior engineers            $125   \n",
       "2  Develop scalable data infrastructure and services            $110   \n",
       "3    Manage cloud data workflows and storage systems            $108   \n",
       "4  Design and develop ETL mappings and data valid...             $90   \n",
       "\n",
       "   job_salary  \n",
       "0           0  \n",
       "1           0  \n",
       "2           0  \n",
       "3           0  \n",
       "4           0  "
      ]
     },
     "execution_count": 3,
     "metadata": {},
     "output_type": "execute_result"
    }
   ],
   "source": [
    "# Update with your actual file path\n",
    "input_file = 'linkedin_jobs_deduplicated.csv'\n",
    "df = pd.read_csv(input_file)\n",
    "\n",
    "# Show the first few rows\n",
    "df.head()\n"
   ]
  },
  {
   "cell_type": "code",
   "execution_count": 5,
   "id": "b8f20db3-2619-4666-87b2-d03ab5291a21",
   "metadata": {},
   "outputs": [],
   "source": [
    "def is_job_url_valid(url):\n",
    "    try:\n",
    "        headers = {\n",
    "            'User-Agent': 'Mozilla/5.0'\n",
    "        }\n",
    "\n",
    "        response = requests.get(url, headers=headers, timeout=10, allow_redirects=True)\n",
    "        status = response.status_code\n",
    "\n",
    "        # 1. Check HTTP status codes that imply job is gone\n",
    "        if status in [404, 410]:\n",
    "            return False\n",
    "\n",
    "        # 2. Check for soft-deleted jobs or redirect to search\n",
    "        invalid_phrases = [\n",
    "            \"This job is no longer accepting applications\",\n",
    "            \"Job has expired\",\n",
    "            \"Page not found\",\n",
    "            \"Search for more jobs\",\n",
    "            \"We can’t find this job\",\n",
    "            \"This job has closed\",\n",
    "            \"The job you were looking for was not found\"\n",
    "        ]\n",
    "        if any(phrase in response.text for phrase in invalid_phrases):\n",
    "            return False\n",
    "\n",
    "        if response.url != url:\n",
    "            # LinkedIn redirected to another page\n",
    "            if \"/jobs/search/\" in response.url or \"/jobs/\" not in response.url:\n",
    "                return False\n",
    "\n",
    "        # 3. If status is 200 and content looks OK\n",
    "        return True\n",
    "\n",
    "    except requests.RequestException:\n",
    "        return False\n"
   ]
  },
  {
   "cell_type": "code",
   "execution_count": 7,
   "id": "af0292a0-766b-4f4f-a34b-af9088046025",
   "metadata": {},
   "outputs": [
    {
     "name": "stderr",
     "output_type": "stream",
     "text": [
      "Checking job URLs: 100%|████████████████████████| 8/8 [00:00<00:00, 2235.17it/s]"
     ]
    },
    {
     "name": "stdout",
     "output_type": "stream",
     "text": [
      "Removed 8 expired or broken job URLs.\n"
     ]
    },
    {
     "name": "stderr",
     "output_type": "stream",
     "text": [
      "\n"
     ]
    }
   ],
   "source": [
    "# Add a new column 'is_valid' by checking each job_url\n",
    "tqdm.pandas(desc=\"Checking job URLs\")\n",
    "df['is_valid'] = df['job_url'].progress_apply(is_job_url_valid)\n",
    "\n",
    "# Filter out invalid URLs\n",
    "df_clean = df[df['is_valid'] == True].drop(columns=['is_valid'])\n",
    "\n",
    "# Show how many were removed\n",
    "print(f\"Removed {len(df) - len(df_clean)} expired or broken job URLs.\")\n"
   ]
  },
  {
   "cell_type": "code",
   "execution_count": 9,
   "id": "47beaa70-8da9-4ce7-9f71-62cd80645b78",
   "metadata": {},
   "outputs": [
    {
     "name": "stdout",
     "output_type": "stream",
     "text": [
      "Cleaned data saved to: linkedin_jobs_NoExpired.csv\n"
     ]
    }
   ],
   "source": [
    "output_file = 'linkedin_jobs_NoExpired.csv'\n",
    "df_clean.to_csv(output_file, index=False)\n",
    "print(f\"Cleaned data saved to: {output_file}\")\n"
   ]
  },
  {
   "cell_type": "code",
   "execution_count": 11,
   "id": "f1783714-388b-412d-98ad-5b3d0c172e2e",
   "metadata": {},
   "outputs": [
    {
     "data": {
      "text/html": [
       "<div>\n",
       "<style scoped>\n",
       "    .dataframe tbody tr th:only-of-type {\n",
       "        vertical-align: middle;\n",
       "    }\n",
       "\n",
       "    .dataframe tbody tr th {\n",
       "        vertical-align: top;\n",
       "    }\n",
       "\n",
       "    .dataframe thead th {\n",
       "        text-align: right;\n",
       "    }\n",
       "</style>\n",
       "<table border=\"1\" class=\"dataframe\">\n",
       "  <thead>\n",
       "    <tr style=\"text-align: right;\">\n",
       "      <th></th>\n",
       "      <th>jobid</th>\n",
       "      <th>job_title</th>\n",
       "      <th>job_level</th>\n",
       "      <th>job_url</th>\n",
       "      <th>industry</th>\n",
       "      <th>job_description</th>\n",
       "      <th>job_salary</th>\n",
       "    </tr>\n",
       "  </thead>\n",
       "  <tbody>\n",
       "  </tbody>\n",
       "</table>\n",
       "</div>"
      ],
      "text/plain": [
       "Empty DataFrame\n",
       "Columns: [jobid, job_title, job_level, job_url, industry, job_description, job_salary]\n",
       "Index: []"
      ]
     },
     "execution_count": 11,
     "metadata": {},
     "output_type": "execute_result"
    }
   ],
   "source": [
    "df_clean.head() #preview cleaned data"
   ]
  },
  {
   "cell_type": "code",
   "execution_count": null,
   "id": "a7df5f8b-89a6-404d-b62c-74bd1deadbfe",
   "metadata": {},
   "outputs": [],
   "source": []
  }
 ],
 "metadata": {
  "kernelspec": {
   "display_name": "Python 3 (ipykernel)",
   "language": "python",
   "name": "python3"
  },
  "language_info": {
   "codemirror_mode": {
    "name": "ipython",
    "version": 3
   },
   "file_extension": ".py",
   "mimetype": "text/x-python",
   "name": "python",
   "nbconvert_exporter": "python",
   "pygments_lexer": "ipython3",
   "version": "3.12.7"
  }
 },
 "nbformat": 4,
 "nbformat_minor": 5
}
